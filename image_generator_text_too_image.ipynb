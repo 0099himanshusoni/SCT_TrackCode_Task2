{
  "cells": [
    {
      "cell_type": "markdown",
      "metadata": {
        "id": "view-in-github",
        "colab_type": "text"
      },
      "source": [
        "<a href=\"https://colab.research.google.com/github/0099himanshusoni/SCT_TrackCode_Task2/blob/main/image_generator_text_too_image.ipynb\" target=\"_parent\"><img src=\"https://colab.research.google.com/assets/colab-badge.svg\" alt=\"Open In Colab\"/></a>"
      ]
    },
    {
      "cell_type": "code",
      "execution_count": null,
      "metadata": {
        "id": "T0GWWn60yrIO"
      },
      "outputs": [],
      "source": [
        "\n",
        "\n",
        "!pip install --upgrade diffusers transformers -q"
      ]
    },
    {
      "cell_type": "code",
      "execution_count": null,
      "metadata": {
        "id": "bjsFMUAuyzEP"
      },
      "outputs": [],
      "source": [
        "from pathlib import Path\n",
        "import tqdm\n",
        "import torch\n",
        "import pandas as pd\n",
        "import numpy as np\n",
        "from diffusers import StableDiffusionPipeline\n",
        "from transformers import pipeline, set_seed\n",
        "import matplotlib.pyplot as plt\n",
        "import matplotlib.pyplot as plt\n",
        "import cv2"
      ]
    },
    {
      "cell_type": "code",
      "execution_count": null,
      "metadata": {
        "id": "VuXWEHMzA0Bp"
      },
      "outputs": [],
      "source": [
        "class CFG:\n",
        "    device = \"cuda\"\n",
        "    seed = 42\n",
        "    generator = torch.Generator(device).manual_seed(seed)\n",
        "    image_gen_steps = 35\n",
        "    image_gen_model_id = \"stabilityai/stable-diffusion-2\"\n",
        "    image_gen_size = (400,400)\n",
        "    image_gen_guidance_scale = 9\n",
        "    prompt_gen_model_id = \"gpt2\"\n",
        "    prompt_dataset_size = 6\n",
        "    prompt_max_length = 12"
      ]
    },
    {
      "cell_type": "code",
      "execution_count": null,
      "metadata": {
        "id": "UxUe7T7mBKfi"
      },
      "outputs": [],
      "source": [
        "image_gen_model = StableDiffusionPipeline.from_pretrained(\n",
        "    CFG.image_gen_model_id, torch_dtype=torch.float16,\n",
        "    revision=\"fp16\", use_auth_token='use your tokens ', guidance_scale=9\n",
        ")\n",
        "image_gen_model = image_gen_model.to(CFG.device)"
      ]
    },
    {
      "cell_type": "code",
      "execution_count": null,
      "metadata": {
        "id": "61L115ELA2rP"
      },
      "outputs": [],
      "source": [
        "import os\n",
        "\n",
        "# Replace 'your_hugging_face_token' with your actual token\n",
        "os.environ[\"HF_TOKEN\"] = \"hf_jFoEoPOHpDhpuvhXotlrTKOCpufBwDtgjQn\"\n"
      ]
    },
    {
      "cell_type": "code",
      "execution_count": null,
      "metadata": {
        "id": "1euBO4rFCPg5"
      },
      "outputs": [],
      "source": [
        "\n"
      ]
    },
    {
      "cell_type": "code",
      "execution_count": null,
      "metadata": {
        "id": "HXNgJc-PCVMe"
      },
      "outputs": [],
      "source": [
        "\n",
        "def generate_image(prompt, model):\n",
        "    image = model(\n",
        "        prompt, num_inference_steps=CFG.image_gen_steps,\n",
        "        generator=CFG.generator,\n",
        "        guidance_scale=CFG.image_gen_guidance_scale\n",
        "    ).images[0]\n",
        "\n",
        "    image = image.resize(CFG.image_gen_size)\n",
        "    return image\n"
      ]
    },
    {
      "cell_type": "code",
      "execution_count": null,
      "metadata": {
        "id": "nzSXV15VCnpY"
      },
      "outputs": [],
      "source": [
        "generate_image(\"A serene nature scene featuring a tranquil forest with tall trees, sunlight filtering through the canopy, a gentle stream with crystal-clear water flowing through mossy rocks, and vibrant flowers blooming along the stream banks. Birds are perched on branches, and a deer is drinking water from the stream. The atmosphere is peaceful and enchanting, with soft light and a sense of untouched beauty.\", image_gen_model)"
      ]
    },
    {
      "cell_type": "code",
      "execution_count": null,
      "metadata": {
        "id": "rpOz7eXJI9Zu"
      },
      "outputs": [],
      "source": []
    }
  ],
  "metadata": {
    "accelerator": "GPU",
    "colab": {
      "gpuType": "T4",
      "provenance": [],
      "authorship_tag": "ABX9TyP8kAWAgoRdzO0795jMv/Ad",
      "include_colab_link": true
    },
    "kernelspec": {
      "display_name": "Python 3",
      "name": "python3"
    },
    "language_info": {
      "name": "python"
    }
  },
  "nbformat": 4,
  "nbformat_minor": 0
}